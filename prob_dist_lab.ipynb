{
 "cells": [
  {
   "cell_type": "markdown",
   "metadata": {},
   "source": [
    "# Probability and Distributions Lab:\n",
    "## Beverage Filling Process\n",
    "You're working as a junior quality analyst at a beverage company that produces 12-ounce soft drinks. The filling process naturally has some variation, and underfilled bottles lead to customer complaints while overfilled bottles waste product. Your supervisor has asked you to analyze the filling data. You will first address initial probability word problem questions using hypothetical data and the varying laws of probability. These scenarios represent potential uses of conditional probability and bayes theorem. \n",
    "\n",
    "Next you will move into conducting an analysis of fill data using properties of the normal distribution. Recent studies suggest that customers notice when bottles are underfilled by more than 0.3 ounces, while overfilling by more than 0.2 ounces impacts company profits. This information has been used to set quality control rejection limits of 11.7 and 12.2 oz. You'll need to analyze the fill amounts, determine if they follow a normal distribution, and establish if the company’s current fill process is within acceptable control limits. They would like to achieve a maximum rejection percentage of 5%.\n",
    "\n",
    "Your analysis needs to answer three key questions:\n",
    "- Does the filling process follow a normal distribution?\n",
    "- What are the probabilities of under-filling (less than 11.7 oz) or over-filling (more than 12.2 oz)?\n",
    "- Is the current fill process below the maximum rejection percentage of 5%?\n",
    "\n",
    "\n"
   ]
  },
  {
   "cell_type": "code",
   "execution_count": 1,
   "metadata": {},
   "outputs": [],
   "source": [
    "# CodeGrade step0\n",
    "# Run this cell without changes\n",
    "# Import required libraries\n",
    "import numpy as np\n",
    "import pandas as pd\n",
    "import matplotlib.pyplot as plt\n",
    "import scipy.stats as stats"
   ]
  },
  {
   "cell_type": "markdown",
   "metadata": {},
   "source": [
    "## Probability Word Problems\n",
    "\n",
    "\n",
    "### Scenario 1\n",
    "In your initial analysis of the filling process, you examine two production lines (A and B). When analyzing a day's data:\n",
    "\n",
    "- 40% of bottles come from Line A\n",
    "- 60% of bottles come from Line B\n",
    "- 3% of Line A bottles are outside specification limits\n",
    "- 2% of Line B bottles are outside specification limits\n",
    "\n",
    "If a bottle is randomly selected and found to be outside specification limits, what is the probability it came from Line A?"
   ]
  },
  {
   "cell_type": "code",
   "execution_count": null,
   "metadata": {},
   "outputs": [],
   "source": [
    "# CodeGrade step1\n",
    "prob_one = None"
   ]
  },
  {
   "cell_type": "markdown",
   "metadata": {},
   "source": [
    "### Scenario 2\n",
    "Your team needs to assess a possible mechanical issue with Line A. From maintenance records and historical data, you know:\n",
    "\n",
    "- The baseline probability of Line A having a mechanical issue on any given day is 5% (prior probability)\n",
    "- When Line A has a mechanical issue, 80% of daily samples show high volume variability\n",
    "- When Line A is operating normally, only 10% of daily samples show high volume variability\n",
    "\n",
    "Today's quality report shows high volume variability in the samples. What is the probability that Line A has a mechanical issue?"
   ]
  },
  {
   "cell_type": "code",
   "execution_count": null,
   "metadata": {},
   "outputs": [],
   "source": [
    "# CodeGrade step2\n",
    "prob_two = None"
   ]
  },
  {
   "cell_type": "markdown",
   "metadata": {},
   "source": [
    "### Scenario 3\n",
    "The quality team has implemented a new inspection system that takes two measurements of each bottle. From analyzing recent data:\n",
    "\n",
    "- 95% of truly underfilled bottles (<11.7 oz) are correctly identified as underfilled on the first measurement\n",
    "- 98% of properly filled bottles are correctly identified as proper on the first measurement\n",
    "- If a bottle fails the first measurement, it is measured again\n",
    "- 90% of truly underfilled bottles are identified correctly on the second measurement\n",
    "- 95% of properly filled bottles are identified correctly on the second measurement\n",
    "- 3% of all bottles are underfilled based on prior information\n",
    "\n",
    "If a bottle fails both measurements, what is the probability that it is actually underfilled? Treat each test as independent. \n",
    "\n",
    "This problem involves multiple conditional probabilities. \n",
    "\n",
    "Use Bayes' Theorem:\n",
    "\n",
    "P(Underfilled | Both Fail) = P(Both Fail | Underfilled) × P(Underfilled) / P(Both Fail)"
   ]
  },
  {
   "cell_type": "code",
   "execution_count": null,
   "metadata": {},
   "outputs": [],
   "source": [
    "# CodeGrade step3\n",
    "prob_three = None"
   ]
  },
  {
   "cell_type": "markdown",
   "metadata": {},
   "source": [
    "## Data Analysis Setup"
   ]
  },
  {
   "cell_type": "markdown",
   "metadata": {},
   "source": [
    "### Load in the Data\n",
    "\n",
    "Load the bottle_fills.csv file using pandas."
   ]
  },
  {
   "cell_type": "code",
   "execution_count": 3,
   "metadata": {},
   "outputs": [],
   "source": [
    "# CodeGrade step4\n",
    "# Your code to load the data\n",
    "data_df = None"
   ]
  },
  {
   "cell_type": "markdown",
   "metadata": {},
   "source": [
    "### Examine the data (basic statistics)\n",
    "\n",
    "Examine the dataset and create visualizations to understand the distribution."
   ]
  },
  {
   "cell_type": "code",
   "execution_count": null,
   "metadata": {},
   "outputs": [],
   "source": [
    "# CodeGrade step5\n",
    "# Quick and dirty look using pandas to get summary statistics\n",
    "basic_stats_describe = None\n",
    "basic_stats_describe"
   ]
  },
  {
   "cell_type": "code",
   "execution_count": null,
   "metadata": {},
   "outputs": [],
   "source": [
    "# CodeGrade step6\n",
    "# Create a histogram with normal curve overlay\n",
    "bins = 'auto'\n",
    "data = data_df['fill_amount']\n",
    "\n",
    "# Create histogram using plt.hist()\n",
    "plt.figure(figsize=(10, 6))\n",
    "histogram_answer = None\n",
    "\n",
    "# Calculate parameters for normal distribution overlay (use data variable or basic_stats_describe object)\n",
    "mean = None\n",
    "std = None\n",
    "\n",
    "# Add normal curve overlay using plt.plot()\n",
    "x = None\n",
    "p = None\n",
    "normal_overlay_answer = None\n",
    "\n",
    "# Display visual\n",
    "plt.title('Distribution of Bottle Fill Amounts')\n",
    "plt.xlabel('Fill Amount (oz)')\n",
    "plt.ylabel('Frequency')\n",
    "plt.grid(True, alpha=0.3)\n",
    "plt.show()"
   ]
  },
  {
   "cell_type": "markdown",
   "metadata": {},
   "source": [
    "### Verify Empirical Rule Application\n",
    "Now let's verify if our data follows a normal distribution using the Empirical Rule."
   ]
  },
  {
   "cell_type": "code",
   "execution_count": null,
   "metadata": {},
   "outputs": [],
   "source": [
    "# CodeGrade step7\n",
    "data = data_df['fill_amount']\n",
    "mean = np.mean(data)\n",
    "std = np.std(data)\n",
    "\n",
    "# Calculate percentage of data within 1, 2, and 3 standard deviations\n",
    "one_sd = None  \n",
    "two_sd = None  \n",
    "three_sd = None  "
   ]
  },
  {
   "cell_type": "code",
   "execution_count": null,
   "metadata": {},
   "outputs": [],
   "source": [
    "# Run this cell without changes to verify\n",
    "print(one_sd, two_sd, three_sd)"
   ]
  },
  {
   "cell_type": "markdown",
   "metadata": {},
   "source": [
    "While this isn't perfectly normal according to the empirical rule (no real world data is), based on our histogram above and these calculations our data is 'normal enough' to continue."
   ]
  },
  {
   "cell_type": "markdown",
   "metadata": {},
   "source": [
    "## Quality Control Analysis\n",
    "\n",
    "Calculate probabilities of underfilling and overfilling based on specifications.\n",
    "\n",
    "Key considerations:\n",
    "- Customers notice when bottles are underfilled by more than 0.3 ounces\n",
    "- Overfilling by more than 0.2 ounces impacts company profits\n",
    "- You need to analyze fill amounts, verify normal distribution, and compare fills to expected rejections\n",
    "\n",
    "### Probability of Underfilling"
   ]
  },
  {
   "cell_type": "code",
   "execution_count": null,
   "metadata": {},
   "outputs": [],
   "source": [
    "# CodeGrade step8\n",
    "# Target fill amount is 12 oz\n",
    "data = data_df['fill_amount']\n",
    "mean = np.mean(data)\n",
    "std = np.std(data)\n",
    "\n",
    "# Calculate probability of underfilling (< 11.7 oz)\n",
    "z_score_under = None\n",
    "\n",
    "# Use normal distribution to calculate probability (times by 100 for percentage numbers)\n",
    "underfill_prob = None"
   ]
  },
  {
   "cell_type": "markdown",
   "metadata": {},
   "source": [
    "### Probability of Overfilling"
   ]
  },
  {
   "cell_type": "code",
   "execution_count": null,
   "metadata": {},
   "outputs": [],
   "source": [
    "# CodeGrade step9\n",
    "# Target fill amount is 12 oz\n",
    "data = data_df['fill_amount']\n",
    "mean = np.mean(data)\n",
    "std = np.std(data)\n",
    "\n",
    "# Calculate probability of overfilling (> 12.2 oz)\n",
    "z_score_over = None\n",
    "\n",
    "# Use normal distribution to calculate probability (times by 100 for percentage numbers)\n",
    "overfill_prob = None"
   ]
  },
  {
   "cell_type": "markdown",
   "metadata": {},
   "source": [
    "### Acceptable Limits"
   ]
  },
  {
   "cell_type": "code",
   "execution_count": null,
   "metadata": {},
   "outputs": [],
   "source": [
    "# CodeGrade step10\n",
    "data = data_df['fill_amount']\n",
    "mean = np.mean(data)\n",
    "std = np.std(data)\n",
    "\n",
    "# Calculate percentage of bottles within acceptable limits\n",
    "acceptable_percentage = None"
   ]
  },
  {
   "cell_type": "markdown",
   "metadata": {},
   "source": [
    "## Recommendations\n",
    "\n",
    "### Total Rejection Rate\n",
    "Does the current process meets the 5% rejection expectation?\n",
    "\n"
   ]
  },
  {
   "cell_type": "code",
   "execution_count": null,
   "metadata": {},
   "outputs": [],
   "source": [
    "# CodeGrade step11\n",
    "excepted_rate = 5\n",
    "\n",
    "# Rate of not accectable fills (can use answers above to calculate)\n",
    "total_rejection_rate = None\n",
    "\n",
    "met_expectations = excepted_rate > total_rejection_rate\n",
    "met_expectations"
   ]
  },
  {
   "cell_type": "markdown",
   "metadata": {},
   "source": [
    "## Submission Instructions\n",
    "\n",
    "1. Make sure all variable initially assigned as 'None' have been filled in with appropriate code or values\n",
    "2. Run all cells to verify your code works without errors\n",
    "3. Save and submit your completed notebook to CG via the canvas assignment page"
   ]
  }
 ],
 "metadata": {
  "kernelspec": {
   "display_name": "test-env01",
   "language": "python",
   "name": "python3"
  },
  "language_info": {
   "codemirror_mode": {
    "name": "ipython",
    "version": 3
   },
   "file_extension": ".py",
   "mimetype": "text/x-python",
   "name": "python",
   "nbconvert_exporter": "python",
   "pygments_lexer": "ipython3",
   "version": "3.12.4"
  }
 },
 "nbformat": 4,
 "nbformat_minor": 2
}
